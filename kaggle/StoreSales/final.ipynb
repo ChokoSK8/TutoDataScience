{
 "cells": [
  {
   "cell_type": "code",
   "execution_count": null,
   "id": "53ee1c13-df84-4022-a691-97965bfa6802",
   "metadata": {},
   "outputs": [],
   "source": [
    "!pip install pandas scikit-learn numpy"
   ]
  },
  {
   "cell_type": "code",
   "execution_count": null,
   "id": "a4e0b3aa-a56a-4b5b-9e0e-b8a4fdbf1b89",
   "metadata": {},
   "outputs": [],
   "source": [
    "import pandas as pd\n",
    "\n",
    "train = pd.read_csv('train.csv')\n",
    "oil = pd.read_csv('./oil.csv')"
   ]
  },
  {
   "cell_type": "code",
   "execution_count": null,
   "id": "65d29cba-ad3a-446f-a7e9-13598d1a7711",
   "metadata": {},
   "outputs": [],
   "source": [
    "def getOneStore(df, store_nbr):\n",
    "    df = df[df['store_nbr'] == store_nbr]\n",
    "    return df\n",
    "\n",
    "train = getOneStore(train, 1)\n",
    "train.head()"
   ]
  },
  {
   "cell_type": "code",
   "execution_count": null,
   "id": "e840ced7-245c-4f2c-8082-ec1d95539906",
   "metadata": {},
   "outputs": [],
   "source": [
    "def addRowWithSameDate(_to, _from, column):\n",
    "    rows = _from['date']\n",
    "    index = 0\n",
    "    res = _to.copy()\n",
    "    for row in rows:\n",
    "        dateToFill = res[res['date'] == row].index\n",
    "        for c in dateToFill:\n",
    "            res.at[c, column] = _from.at[index, column]\n",
    "        index += 1\n",
    "    return res\n",
    "\n",
    "updateTrain = addRowWithSameDate(train, oil, 'dcoilwtico')\n",
    "updateTrain.head()"
   ]
  },
  {
   "cell_type": "code",
   "execution_count": null,
   "id": "6088de6d-6e53-40a1-b9c8-75c842071e33",
   "metadata": {},
   "outputs": [],
   "source": [
    "holi_df = pd.read_csv('holidays_events.csv')"
   ]
  },
  {
   "cell_type": "code",
   "execution_count": null,
   "id": "e31b86f9-d9a2-49ee-9b8e-90610c493dbf",
   "metadata": {},
   "outputs": [],
   "source": [
    "def deleteTransferredTrue(df):\n",
    "    if (df['transferred'].dtype == bool):\n",
    "        x = 0\n",
    "        for trans in df['transferred']:\n",
    "            if trans:\n",
    "                x += 1\n",
    "        print('Number of transferred: ' + str(x))\n",
    "        df = df.drop(df[df['transferred'] == True].index)\n",
    "    return df\n",
    "\n",
    "holi_df = deleteTransferredTrue(holi_df)"
   ]
  },
  {
   "cell_type": "code",
   "execution_count": null,
   "id": "1e4339e4-e2bf-4722-847f-91e6cb8f9736",
   "metadata": {},
   "outputs": [],
   "source": [
    "def addHolidayWithSameDate(_to, _from):\n",
    "    rows = _from['date']\n",
    "    for row in rows:\n",
    "        dateToFill = _to[_to['date'] == row].index\n",
    "        from_index = _from[_from['date'] == row].index[0]\n",
    "        for c in dateToFill:\n",
    "            _to.at[c, 'holiday'] = _from.at[from_index, 'locale_name']\n",
    "    return _to\n",
    "\n",
    "updateTrain = addHolidayWithSameDate(updateTrain, holi_df)"
   ]
  },
  {
   "cell_type": "code",
   "execution_count": null,
   "id": "928cd827-5737-4291-b1b9-b54f5d26a3f5",
   "metadata": {},
   "outputs": [],
   "source": [
    "from sklearn import preprocessing\n",
    "\n",
    "le = preprocessing.LabelEncoder()\n",
    "le.fit(updateTrain['holiday'])\n",
    "updateTrain['holiday'] = le.transform(updateTrain['holiday'])"
   ]
  },
  {
   "cell_type": "code",
   "execution_count": null,
   "id": "e6586244-cb03-40da-b36e-ad97c203aca9",
   "metadata": {},
   "outputs": [],
   "source": [
    "updateTrain['dcoilwtico'] = updateTrain['dcoilwtico'].fillna(updateTrain['dcoilwtico'].median())"
   ]
  },
  {
   "cell_type": "code",
   "execution_count": null,
   "id": "3e7a729a-9618-407b-87e2-38955c75f9d1",
   "metadata": {},
   "outputs": [],
   "source": [
    "updateTrain['family'] = le.fit_transform(updateTrain['family'])"
   ]
  },
  {
   "cell_type": "code",
   "execution_count": null,
   "id": "9ab51814-9e9a-4a66-b5f9-09043e95577c",
   "metadata": {},
   "outputs": [],
   "source": [
    "from sklearn.model_selection import train_test_split\n",
    "\n",
    "X = updateTrain.drop(columns = ['sales', 'date'])\n",
    "y = updateTrain['sales']\n",
    "X_train, X_test, y_train, y_test = train_test_split(X, y, random_state = 42, test_size = 0.3)"
   ]
  },
  {
   "cell_type": "code",
   "execution_count": null,
   "id": "7101a480-7bb1-47fe-bb04-69d39ab8c561",
   "metadata": {},
   "outputs": [],
   "source": [
    "from sklearn.tree import DecisionTreeRegressor\n",
    "clf = DecisionTreeRegressor(max_depth = 10)\n",
    "clf = clf.fit(X_train, y_train)"
   ]
  },
  {
   "cell_type": "code",
   "execution_count": null,
   "id": "3d1ced96-65ba-4f65-bb71-76a3109aea00",
   "metadata": {},
   "outputs": [],
   "source": [
    "predictions = clf.predict(X_test)\n",
    "predictions"
   ]
  },
  {
   "cell_type": "code",
   "execution_count": null,
   "id": "4b3c27cc-e996-47cb-8f72-14a1800affab",
   "metadata": {},
   "outputs": [],
   "source": [
    "from sklearn.metrics import r2_score\n",
    "print(r2_score(predictions, y_test))"
   ]
  },
  {
   "cell_type": "code",
   "execution_count": null,
   "id": "fbd351f7-116d-409c-9d0f-0c27551e9940",
   "metadata": {},
   "outputs": [],
   "source": []
  }
 ],
 "metadata": {
  "kernelspec": {
   "display_name": "Python 3 (ipykernel)",
   "language": "python",
   "name": "python3"
  },
  "language_info": {
   "codemirror_mode": {
    "name": "ipython",
    "version": 3
   },
   "file_extension": ".py",
   "mimetype": "text/x-python",
   "name": "python",
   "nbconvert_exporter": "python",
   "pygments_lexer": "ipython3",
   "version": "3.10.8"
  }
 },
 "nbformat": 4,
 "nbformat_minor": 5
}
