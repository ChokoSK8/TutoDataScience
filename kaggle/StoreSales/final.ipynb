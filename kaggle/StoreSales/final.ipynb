{
 "cells": [
  {
   "cell_type": "code",
   "execution_count": 22,
   "id": "53ee1c13-df84-4022-a691-97965bfa6802",
   "metadata": {},
   "outputs": [
    {
     "name": "stdout",
     "output_type": "stream",
     "text": [
      "Requirement already satisfied: pandas in /opt/conda/lib/python3.10/site-packages (1.5.2)\n",
      "Requirement already satisfied: scikit-learn in /opt/conda/lib/python3.10/site-packages (1.1.3)\n",
      "Requirement already satisfied: numpy in /opt/conda/lib/python3.10/site-packages (1.23.5)\n",
      "Requirement already satisfied: python-dateutil>=2.8.1 in /opt/conda/lib/python3.10/site-packages (from pandas) (2.8.2)\n",
      "Requirement already satisfied: pytz>=2020.1 in /opt/conda/lib/python3.10/site-packages (from pandas) (2022.6)\n",
      "Requirement already satisfied: scipy>=1.3.2 in /opt/conda/lib/python3.10/site-packages (from scikit-learn) (1.9.3)\n",
      "Requirement already satisfied: threadpoolctl>=2.0.0 in /opt/conda/lib/python3.10/site-packages (from scikit-learn) (3.1.0)\n",
      "Requirement already satisfied: joblib>=1.0.0 in /opt/conda/lib/python3.10/site-packages (from scikit-learn) (1.2.0)\n",
      "Requirement already satisfied: six>=1.5 in /opt/conda/lib/python3.10/site-packages (from python-dateutil>=2.8.1->pandas) (1.16.0)\n"
     ]
    }
   ],
   "source": [
    "!pip install pandas scikit-learn numpy"
   ]
  },
  {
   "cell_type": "code",
   "execution_count": 23,
   "id": "a4e0b3aa-a56a-4b5b-9e0e-b8a4fdbf1b89",
   "metadata": {},
   "outputs": [],
   "source": [
    "import pandas as pd\n",
    "\n",
    "train = pd.read_csv('train.csv')\n",
    "oil = pd.read_csv('oil.csv')"
   ]
  },
  {
   "cell_type": "code",
   "execution_count": 24,
   "id": "65d29cba-ad3a-446f-a7e9-13598d1a7711",
   "metadata": {},
   "outputs": [
    {
     "data": {
      "text/html": [
       "<div>\n",
       "<style scoped>\n",
       "    .dataframe tbody tr th:only-of-type {\n",
       "        vertical-align: middle;\n",
       "    }\n",
       "\n",
       "    .dataframe tbody tr th {\n",
       "        vertical-align: top;\n",
       "    }\n",
       "\n",
       "    .dataframe thead th {\n",
       "        text-align: right;\n",
       "    }\n",
       "</style>\n",
       "<table border=\"1\" class=\"dataframe\">\n",
       "  <thead>\n",
       "    <tr style=\"text-align: right;\">\n",
       "      <th></th>\n",
       "      <th>id</th>\n",
       "      <th>date</th>\n",
       "      <th>store_nbr</th>\n",
       "      <th>family</th>\n",
       "      <th>sales</th>\n",
       "      <th>onpromotion</th>\n",
       "    </tr>\n",
       "  </thead>\n",
       "  <tbody>\n",
       "    <tr>\n",
       "      <th>0</th>\n",
       "      <td>0</td>\n",
       "      <td>2013-01-01</td>\n",
       "      <td>1</td>\n",
       "      <td>AUTOMOTIVE</td>\n",
       "      <td>0.0</td>\n",
       "      <td>0</td>\n",
       "    </tr>\n",
       "    <tr>\n",
       "      <th>1</th>\n",
       "      <td>1</td>\n",
       "      <td>2013-01-01</td>\n",
       "      <td>1</td>\n",
       "      <td>BABY CARE</td>\n",
       "      <td>0.0</td>\n",
       "      <td>0</td>\n",
       "    </tr>\n",
       "    <tr>\n",
       "      <th>2</th>\n",
       "      <td>2</td>\n",
       "      <td>2013-01-01</td>\n",
       "      <td>1</td>\n",
       "      <td>BEAUTY</td>\n",
       "      <td>0.0</td>\n",
       "      <td>0</td>\n",
       "    </tr>\n",
       "    <tr>\n",
       "      <th>3</th>\n",
       "      <td>3</td>\n",
       "      <td>2013-01-01</td>\n",
       "      <td>1</td>\n",
       "      <td>BEVERAGES</td>\n",
       "      <td>0.0</td>\n",
       "      <td>0</td>\n",
       "    </tr>\n",
       "    <tr>\n",
       "      <th>4</th>\n",
       "      <td>4</td>\n",
       "      <td>2013-01-01</td>\n",
       "      <td>1</td>\n",
       "      <td>BOOKS</td>\n",
       "      <td>0.0</td>\n",
       "      <td>0</td>\n",
       "    </tr>\n",
       "  </tbody>\n",
       "</table>\n",
       "</div>"
      ],
      "text/plain": [
       "   id        date  store_nbr      family  sales  onpromotion\n",
       "0   0  2013-01-01          1  AUTOMOTIVE    0.0            0\n",
       "1   1  2013-01-01          1   BABY CARE    0.0            0\n",
       "2   2  2013-01-01          1      BEAUTY    0.0            0\n",
       "3   3  2013-01-01          1   BEVERAGES    0.0            0\n",
       "4   4  2013-01-01          1       BOOKS    0.0            0"
      ]
     },
     "execution_count": 24,
     "metadata": {},
     "output_type": "execute_result"
    }
   ],
   "source": [
    "def getOneStore(df, store_nbr):\n",
    "    df = df[df['store_nbr'] == store_nbr]\n",
    "    return df\n",
    "\n",
    "train = getOneStore(train, 1)\n",
    "train.head()"
   ]
  },
  {
   "cell_type": "code",
   "execution_count": 25,
   "id": "e840ced7-245c-4f2c-8082-ec1d95539906",
   "metadata": {},
   "outputs": [
    {
     "data": {
      "text/html": [
       "<div>\n",
       "<style scoped>\n",
       "    .dataframe tbody tr th:only-of-type {\n",
       "        vertical-align: middle;\n",
       "    }\n",
       "\n",
       "    .dataframe tbody tr th {\n",
       "        vertical-align: top;\n",
       "    }\n",
       "\n",
       "    .dataframe thead th {\n",
       "        text-align: right;\n",
       "    }\n",
       "</style>\n",
       "<table border=\"1\" class=\"dataframe\">\n",
       "  <thead>\n",
       "    <tr style=\"text-align: right;\">\n",
       "      <th></th>\n",
       "      <th>id</th>\n",
       "      <th>date</th>\n",
       "      <th>store_nbr</th>\n",
       "      <th>family</th>\n",
       "      <th>sales</th>\n",
       "      <th>onpromotion</th>\n",
       "      <th>dcoilwtico</th>\n",
       "    </tr>\n",
       "  </thead>\n",
       "  <tbody>\n",
       "    <tr>\n",
       "      <th>0</th>\n",
       "      <td>0</td>\n",
       "      <td>2013-01-01</td>\n",
       "      <td>1</td>\n",
       "      <td>AUTOMOTIVE</td>\n",
       "      <td>0.0</td>\n",
       "      <td>0</td>\n",
       "      <td>NaN</td>\n",
       "    </tr>\n",
       "    <tr>\n",
       "      <th>1</th>\n",
       "      <td>1</td>\n",
       "      <td>2013-01-01</td>\n",
       "      <td>1</td>\n",
       "      <td>BABY CARE</td>\n",
       "      <td>0.0</td>\n",
       "      <td>0</td>\n",
       "      <td>NaN</td>\n",
       "    </tr>\n",
       "    <tr>\n",
       "      <th>2</th>\n",
       "      <td>2</td>\n",
       "      <td>2013-01-01</td>\n",
       "      <td>1</td>\n",
       "      <td>BEAUTY</td>\n",
       "      <td>0.0</td>\n",
       "      <td>0</td>\n",
       "      <td>NaN</td>\n",
       "    </tr>\n",
       "    <tr>\n",
       "      <th>3</th>\n",
       "      <td>3</td>\n",
       "      <td>2013-01-01</td>\n",
       "      <td>1</td>\n",
       "      <td>BEVERAGES</td>\n",
       "      <td>0.0</td>\n",
       "      <td>0</td>\n",
       "      <td>NaN</td>\n",
       "    </tr>\n",
       "    <tr>\n",
       "      <th>4</th>\n",
       "      <td>4</td>\n",
       "      <td>2013-01-01</td>\n",
       "      <td>1</td>\n",
       "      <td>BOOKS</td>\n",
       "      <td>0.0</td>\n",
       "      <td>0</td>\n",
       "      <td>NaN</td>\n",
       "    </tr>\n",
       "  </tbody>\n",
       "</table>\n",
       "</div>"
      ],
      "text/plain": [
       "   id        date  store_nbr      family  sales  onpromotion  dcoilwtico\n",
       "0   0  2013-01-01          1  AUTOMOTIVE    0.0            0         NaN\n",
       "1   1  2013-01-01          1   BABY CARE    0.0            0         NaN\n",
       "2   2  2013-01-01          1      BEAUTY    0.0            0         NaN\n",
       "3   3  2013-01-01          1   BEVERAGES    0.0            0         NaN\n",
       "4   4  2013-01-01          1       BOOKS    0.0            0         NaN"
      ]
     },
     "execution_count": 25,
     "metadata": {},
     "output_type": "execute_result"
    }
   ],
   "source": [
    "def addRowWithSameDate(_to, _from, column):\n",
    "    rows = _from['date']\n",
    "    index = 0\n",
    "    res = _to.copy()\n",
    "    for row in rows:\n",
    "        dateToFill = res[res['date'] == row].index\n",
    "        for c in dateToFill:\n",
    "            res.at[c, column] = _from.at[index, column]\n",
    "        index += 1\n",
    "    return res\n",
    "\n",
    "updateTrain = addRowWithSameDate(train, oil, 'dcoilwtico')\n",
    "updateTrain.head()"
   ]
  },
  {
   "cell_type": "code",
   "execution_count": 26,
   "id": "6088de6d-6e53-40a1-b9c8-75c842071e33",
   "metadata": {},
   "outputs": [],
   "source": [
    "holi_df = pd.read_csv('holidays_events.csv')\n",
    "print(len(holi_df['date']))"
   ]
  },
  {
   "cell_type": "code",
   "execution_count": 27,
   "id": "e31b86f9-d9a2-49ee-9b8e-90610c493dbf",
   "metadata": {},
   "outputs": [
    {
     "name": "stdout",
     "output_type": "stream",
     "text": [
      "Number of transferred: 12\n"
     ]
    }
   ],
   "source": [
    "def deleteTransferredTrue(df):\n",
    "    if (df['transferred'].dtype == bool):\n",
    "        x = 0\n",
    "        for trans in df['transferred']:\n",
    "            if trans:\n",
    "                x += 1\n",
    "        print('Number of transferred: ' + str(x))\n",
    "        df = df.drop(df[df['transferred'] == True].index)\n",
    "    return df\n",
    "\n",
    "holi_df = deleteTransferredTrue(holi_df)"
   ]
  },
  {
   "cell_type": "code",
   "execution_count": 28,
   "id": "1e4339e4-e2bf-4722-847f-91e6cb8f9736",
   "metadata": {},
   "outputs": [],
   "source": [
    "def addHolidayWithSameDate(_to, _from):\n",
    "    rows = _from['date']\n",
    "    for row in rows:\n",
    "        dateToFill = _to[_to['date'] == row].index\n",
    "        from_index = _from[_from['date'] == row].index[0]\n",
    "        for c in dateToFill:\n",
    "            _to.at[c, 'holiday'] = _from.at[from_index, 'locale_name']\n",
    "    return _to\n",
    "\n",
    "updateTrain = addHolidayWithSameDate(updateTrain, holi_df)"
   ]
  },
  {
   "cell_type": "code",
   "execution_count": 29,
   "id": "928cd827-5737-4291-b1b9-b54f5d26a3f5",
   "metadata": {},
   "outputs": [],
   "source": [
    "from sklearn import preprocessing\n",
    "\n",
    "le = preprocessing.LabelEncoder()\n",
    "le.fit(updateTrain['holiday'])\n",
    "updateTrain['holiday'] = le.transform(updateTrain['holiday'])"
   ]
  },
  {
   "cell_type": "code",
   "execution_count": 30,
   "id": "e6586244-cb03-40da-b36e-ad97c203aca9",
   "metadata": {},
   "outputs": [],
   "source": [
    "updateTrain['dcoilwtico'] = updateTrain['dcoilwtico'].fillna(updateTrain['dcoilwtico'].median())"
   ]
  },
  {
   "cell_type": "code",
   "execution_count": 33,
   "id": "3e7a729a-9618-407b-87e2-38955c75f9d1",
   "metadata": {},
   "outputs": [],
   "source": [
    "le.fit(updateTrain['family'])\n",
    "updateTrain['family'] = le.transform(updateTrain['family'])"
   ]
  },
  {
   "cell_type": "code",
   "execution_count": 43,
   "id": "9ab51814-9e9a-4a66-b5f9-09043e95577c",
   "metadata": {},
   "outputs": [
    {
     "name": "stdout",
     "output_type": "stream",
     "text": [
      "              id  store_nbr  family  onpromotion  dcoilwtico  holiday\n",
      "0              0          1       0            0       53.33        4\n",
      "1              1          1       1            0       53.33        4\n",
      "2              2          1       2            0       53.33        4\n",
      "3              3          1       3            0       53.33        4\n",
      "4              4          1       4            0       53.33        4\n",
      "...          ...        ...     ...          ...         ...      ...\n",
      "2999134  2999134          1      28            0       47.57       19\n",
      "2999135  2999135          1      29            0       47.57       19\n",
      "2999136  2999136          1      30            7       47.57       19\n",
      "2999137  2999137          1      31            0       47.57       19\n",
      "2999138  2999138          1      32            0       47.57       19\n",
      "\n",
      "[55572 rows x 6 columns]\n",
      "0             0.000000\n",
      "1             0.000000\n",
      "2             0.000000\n",
      "3             0.000000\n",
      "4             0.000000\n",
      "              ...     \n",
      "2999134     234.892000\n",
      "2999135      42.822998\n",
      "2999136    2240.230000\n",
      "2999137       0.000000\n",
      "2999138      22.487000\n",
      "Name: sales, Length: 55572, dtype: float64\n"
     ]
    }
   ],
   "source": [
    "from sklearn.model_selection import train_test_split\n",
    "\n",
    "X = updateTrain.drop(columns = ['sales', 'date'])\n",
    "y = updateTrain['sales']\n",
    "X_train, X_test, y_train, y_test = train_test_split(X, y, random_state = 42, test_size = 0.3)"
   ]
  },
  {
   "cell_type": "code",
   "execution_count": 45,
   "id": "7101a480-7bb1-47fe-bb04-69d39ab8c561",
   "metadata": {},
   "outputs": [],
   "source": [
    "from sklearn.tree import DecisionTreeRegressor\n",
    "clf = DecisionTreeRegressor(max_depth = 10)\n",
    "clf = clf.fit(X_train, y_train)"
   ]
  },
  {
   "cell_type": "code",
   "execution_count": 46,
   "id": "3d1ced96-65ba-4f65-bb71-76a3109aea00",
   "metadata": {},
   "outputs": [
    {
     "data": {
      "text/plain": [
       "array([  5.30150309,   5.30150309,   3.47826087, ..., 747.86842105,\n",
       "       923.65432099, 430.83835351])"
      ]
     },
     "execution_count": 46,
     "metadata": {},
     "output_type": "execute_result"
    }
   ],
   "source": [
    "predictions = clf.predict(X_test)\n",
    "predictions"
   ]
  },
  {
   "cell_type": "code",
   "execution_count": 48,
   "id": "4b3c27cc-e996-47cb-8f72-14a1800affab",
   "metadata": {},
   "outputs": [
    {
     "name": "stdout",
     "output_type": "stream",
     "text": [
      "0.8871285715115442\n"
     ]
    }
   ],
   "source": [
    "from sklearn.metrics import r2_score\n",
    "print(r2_score(predictions, y_test))"
   ]
  },
  {
   "cell_type": "code",
   "execution_count": null,
   "id": "fbd351f7-116d-409c-9d0f-0c27551e9940",
   "metadata": {},
   "outputs": [],
   "source": []
  }
 ],
 "metadata": {
  "kernelspec": {
   "display_name": "Python 3 (ipykernel)",
   "language": "python",
   "name": "python3"
  },
  "language_info": {
   "codemirror_mode": {
    "name": "ipython",
    "version": 3
   },
   "file_extension": ".py",
   "mimetype": "text/x-python",
   "name": "python",
   "nbconvert_exporter": "python",
   "pygments_lexer": "ipython3",
   "version": "3.10.8"
  }
 },
 "nbformat": 4,
 "nbformat_minor": 5
}
