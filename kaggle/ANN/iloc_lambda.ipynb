{
 "cells": [
  {
   "cell_type": "code",
   "execution_count": 1,
   "id": "e02d1057-b205-4625-8544-0d3be99830fc",
   "metadata": {},
   "outputs": [
    {
     "name": "stdout",
     "output_type": "stream",
     "text": [
      "Requirement already satisfied: pandas in /opt/conda/lib/python3.10/site-packages (1.5.2)\n",
      "Requirement already satisfied: numpy in /opt/conda/lib/python3.10/site-packages (1.23.5)\n",
      "Requirement already satisfied: pytz>=2020.1 in /opt/conda/lib/python3.10/site-packages (from pandas) (2022.6)\n",
      "Requirement already satisfied: python-dateutil>=2.8.1 in /opt/conda/lib/python3.10/site-packages (from pandas) (2.8.2)\n",
      "Requirement already satisfied: six>=1.5 in /opt/conda/lib/python3.10/site-packages (from python-dateutil>=2.8.1->pandas) (1.16.0)\n"
     ]
    }
   ],
   "source": [
    "!pip install pandas numpy"
   ]
  },
  {
   "cell_type": "code",
   "execution_count": 2,
   "id": "54e0a4eb-2b5e-4f64-9e88-4569142621bd",
   "metadata": {},
   "outputs": [
    {
     "data": {
      "text/html": [
       "<div>\n",
       "<style scoped>\n",
       "    .dataframe tbody tr th:only-of-type {\n",
       "        vertical-align: middle;\n",
       "    }\n",
       "\n",
       "    .dataframe tbody tr th {\n",
       "        vertical-align: top;\n",
       "    }\n",
       "\n",
       "    .dataframe thead th {\n",
       "        text-align: right;\n",
       "    }\n",
       "</style>\n",
       "<table border=\"1\" class=\"dataframe\">\n",
       "  <thead>\n",
       "    <tr style=\"text-align: right;\">\n",
       "      <th></th>\n",
       "      <th>a</th>\n",
       "      <th>b</th>\n",
       "      <th>c</th>\n",
       "      <th>d</th>\n",
       "    </tr>\n",
       "  </thead>\n",
       "  <tbody>\n",
       "    <tr>\n",
       "      <th>0</th>\n",
       "      <td>1</td>\n",
       "      <td>2</td>\n",
       "      <td>3</td>\n",
       "      <td>4</td>\n",
       "    </tr>\n",
       "    <tr>\n",
       "      <th>1</th>\n",
       "      <td>100</td>\n",
       "      <td>200</td>\n",
       "      <td>300</td>\n",
       "      <td>400</td>\n",
       "    </tr>\n",
       "    <tr>\n",
       "      <th>2</th>\n",
       "      <td>1000</td>\n",
       "      <td>2000</td>\n",
       "      <td>3000</td>\n",
       "      <td>4000</td>\n",
       "    </tr>\n",
       "  </tbody>\n",
       "</table>\n",
       "</div>"
      ],
      "text/plain": [
       "      a     b     c     d\n",
       "0     1     2     3     4\n",
       "1   100   200   300   400\n",
       "2  1000  2000  3000  4000"
      ]
     },
     "execution_count": 2,
     "metadata": {},
     "output_type": "execute_result"
    }
   ],
   "source": [
    "import pandas as pd\n",
    "import numpy as np\n",
    "\n",
    "mydict = [{'a': 1, 'b': 2, 'c': 3, 'd': 4},\n",
    "           {'a': 100, 'b': 200, 'c': 300, 'd': 400},\n",
    "           {'a': 1000, 'b': 2000, 'c': 3000, 'd': 4000 }]\n",
    "df = pd.DataFrame(mydict)\n",
    "\n",
    "df"
   ]
  },
  {
   "cell_type": "code",
   "execution_count": 3,
   "id": "1a78efcb-dad5-418a-a880-7af7e0d1809a",
   "metadata": {},
   "outputs": [
    {
     "name": "stdout",
     "output_type": "stream",
     "text": [
      "a    100\n",
      "b    200\n",
      "c    300\n",
      "d    400\n",
      "Name: 1, dtype: int64\n"
     ]
    }
   ],
   "source": [
    "print(df.iloc[1])"
   ]
  },
  {
   "cell_type": "code",
   "execution_count": 4,
   "id": "4eaeab3e-9d26-4b8c-9743-d4e2a65f40f7",
   "metadata": {},
   "outputs": [
    {
     "name": "stdout",
     "output_type": "stream",
     "text": [
      "      a     b     c     d\n",
      "1   100   200   300   400\n",
      "2  1000  2000  3000  4000\n"
     ]
    }
   ],
   "source": [
    "print(df.iloc[1:])"
   ]
  },
  {
   "cell_type": "code",
   "execution_count": 18,
   "id": "0279c780-9c61-48d2-9dca-f7fa60addc09",
   "metadata": {},
   "outputs": [
    {
     "name": "stdout",
     "output_type": "stream",
     "text": [
      "      a     b     c     d\n",
      "1   100   200   300   400\n",
      "2  1000  2000  3000  4000\n"
     ]
    }
   ],
   "source": [
    "print(df.iloc[1:])"
   ]
  },
  {
   "cell_type": "code",
   "execution_count": 16,
   "id": "e67873f9-e1da-405e-818f-2c8f8b7b126d",
   "metadata": {},
   "outputs": [
    {
     "name": "stdout",
     "output_type": "stream",
     "text": [
      "      a     b     c     d\n",
      "1   100   200   300   400\n",
      "2  1000  2000  3000  4000\n"
     ]
    }
   ],
   "source": [
    "print(df.loc[df['a'] > 50])"
   ]
  },
  {
   "cell_type": "code",
   "execution_count": 21,
   "id": "4fc4f70e-d9a4-4ec0-83b3-f7191f65e9e2",
   "metadata": {},
   "outputs": [
    {
     "name": "stdout",
     "output_type": "stream",
     "text": [
      "      a     c\n",
      "0     1     3\n",
      "1   100   300\n",
      "2  1000  3000\n"
     ]
    }
   ],
   "source": [
    "print(df.iloc[:, lambda df: [0, 2]])"
   ]
  },
  {
   "cell_type": "code",
   "execution_count": 22,
   "id": "646e1b74-24b0-4506-b821-6f6c8fdc78a6",
   "metadata": {},
   "outputs": [],
   "source": [
    "x = lambda a: a + 10"
   ]
  },
  {
   "cell_type": "code",
   "execution_count": 23,
   "id": "d449f230-0da5-4fff-afa0-c82c9abe6cd7",
   "metadata": {},
   "outputs": [
    {
     "data": {
      "text/plain": [
       "15"
      ]
     },
     "execution_count": 23,
     "metadata": {},
     "output_type": "execute_result"
    }
   ],
   "source": [
    "x(5)"
   ]
  },
  {
   "cell_type": "code",
   "execution_count": 24,
   "id": "6e26719e-db23-4a28-b297-34b6b1c5ffa4",
   "metadata": {},
   "outputs": [],
   "source": [
    "def multiplier(n):\n",
    "    return lambda a: a * n"
   ]
  },
  {
   "cell_type": "code",
   "execution_count": 25,
   "id": "40bb050d-4a69-4508-8219-51b699f06031",
   "metadata": {},
   "outputs": [],
   "source": [
    "doubler = multiplier(2)\n",
    "tripler = multiplier(3)\n",
    "tenpler = multiplier(10)"
   ]
  },
  {
   "cell_type": "code",
   "execution_count": 26,
   "id": "625a7959-1517-4033-b87a-7a6dbbdbca44",
   "metadata": {},
   "outputs": [
    {
     "name": "stdout",
     "output_type": "stream",
     "text": [
      "18\n",
      "27\n",
      "90\n"
     ]
    }
   ],
   "source": [
    "print(doubler(9))\n",
    "print(tripler(9))\n",
    "print(tenpler(9))"
   ]
  },
  {
   "cell_type": "code",
   "execution_count": null,
   "id": "0534b543-bffb-4557-b009-dfe32c1cdb36",
   "metadata": {},
   "outputs": [],
   "source": []
  }
 ],
 "metadata": {
  "kernelspec": {
   "display_name": "Python 3 (ipykernel)",
   "language": "python",
   "name": "python3"
  },
  "language_info": {
   "codemirror_mode": {
    "name": "ipython",
    "version": 3
   },
   "file_extension": ".py",
   "mimetype": "text/x-python",
   "name": "python",
   "nbconvert_exporter": "python",
   "pygments_lexer": "ipython3",
   "version": "3.10.8"
  }
 },
 "nbformat": 4,
 "nbformat_minor": 5
}
